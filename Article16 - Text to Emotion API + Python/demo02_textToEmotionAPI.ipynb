{
 "cells": [
  {
   "cell_type": "markdown",
   "metadata": {},
   "source": [
    "# Easily Detect Emotions from Tweets with Text to Emotion API"
   ]
  },
  {
   "cell_type": "markdown",
   "metadata": {},
   "source": [
    " "
   ]
  },
  {
   "cell_type": "code",
   "execution_count": 8,
   "metadata": {
    "ExecuteTime": {
     "end_time": "2022-03-04T03:57:44.448290Z",
     "start_time": "2022-03-04T03:57:44.439221Z"
    }
   },
   "outputs": [],
   "source": [
    "#!/usr/bin/env python\n",
    "# -*- coding: utf-8 -*-\n",
    "# Python 3\n",
    "import requests\n",
    "\n",
    "url = \"https://api.apilayer.com/text_to_emotion\"\n",
    "\n",
    "headers= {\n",
    "  \"apikey\": \"YOUR_API_KEY\"\n",
    "}"
   ]
  },
  {
   "cell_type": "code",
   "execution_count": 9,
   "metadata": {
    "ExecuteTime": {
     "end_time": "2022-03-04T03:57:47.814429Z",
     "start_time": "2022-03-04T03:57:47.808593Z"
    }
   },
   "outputs": [],
   "source": [
    "# Input your text data here\n",
    "payload = \"Developers Fun facts - did you know that the world's first programmer was \\\n",
    "a woman? Her name is Ada Lovelace and she started to work on the analytical engine in \\\n",
    "the early 18th century She developed the first computer program. Shoutout to all women \\\n",
    "in tech! 🤲 🔥\".encode(\"utf-8\")\n"
   ]
  },
  {
   "cell_type": "code",
   "execution_count": 10,
   "metadata": {
    "ExecuteTime": {
     "end_time": "2022-03-04T03:57:51.171301Z",
     "start_time": "2022-03-04T03:57:50.114283Z"
    }
   },
   "outputs": [
    {
     "name": "stdout",
     "output_type": "stream",
     "text": [
      "{\n",
      "    \"Happy\": 0.2,\n",
      "    \"Angry\": 0.0,\n",
      "    \"Surprise\": 0.4,\n",
      "    \"Sad\": 0.0,\n",
      "    \"Fear\": 0.4\n",
      "}\n",
      "\n"
     ]
    }
   ],
   "source": [
    "response = requests.request(\"POST\", url, headers=headers, data = payload)\n",
    "\n",
    "status_code = response.status_code\n",
    "result = response.text\n",
    "print(result)"
   ]
  }
 ],
 "metadata": {
  "hide_input": false,
  "kernelspec": {
   "display_name": "Python 3",
   "language": "python",
   "name": "python3"
  },
  "language_info": {
   "codemirror_mode": {
    "name": "ipython",
    "version": 3
   },
   "file_extension": ".py",
   "mimetype": "text/x-python",
   "name": "python",
   "nbconvert_exporter": "python",
   "pygments_lexer": "ipython3",
   "version": "3.7.4"
  }
 },
 "nbformat": 4,
 "nbformat_minor": 2
}
